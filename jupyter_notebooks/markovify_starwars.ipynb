{
 "cells": [
  {
   "cell_type": "markdown",
   "metadata": {},
   "source": [
    "# Generating Star Wars dialogue with `markovify`"
   ]
  },
  {
   "cell_type": "code",
   "execution_count": 2,
   "metadata": {},
   "outputs": [],
   "source": [
    "import markovify"
   ]
  },
  {
   "cell_type": "code",
   "execution_count": 4,
   "metadata": {},
   "outputs": [
    {
     "name": "stdout",
     "output_type": "stream",
     "text": [
      "The tracks go off in this R2 unit.\n",
      "Tomorrow I want you to take that R2 unit to plan the attack.\n",
      "They're heading for the ease of our escape.\n",
      "Dantooine is too well equipped.\n",
      "We've got a bad pilot myself!\n"
     ]
    }
   ],
   "source": [
    "# Get raw text as string.\n",
    "with open(\"../raw_data/SW_EpisodeIV.txt\") as f:\n",
    "    text = f.read()\n",
    "\n",
    "# Build the model.\n",
    "text_model = markovify.Text(text)\n",
    "\n",
    "# Print three randomly-generated sentences of no more than 280 characters\n",
    "for i in range(5):\n",
    "    print(text_model.make_short_sentence(100))"
   ]
  },
  {
   "cell_type": "code",
   "execution_count": 5,
   "metadata": {},
   "outputs": [
    {
     "name": "stdout",
     "output_type": "stream",
     "text": [
      "We've got to be trained!\n",
      "There's got to be fine.\n",
      "I didn't hit it that he finds his way here.\n",
      "Always with you again.\n",
      "How are we going to be freezing.\n"
     ]
    }
   ],
   "source": [
    "# Get raw text as string.\n",
    "with open(\"../raw_data/SW_EpisodeV.txt\") as f:\n",
    "    text = f.read()\n",
    "\n",
    "# Build the model.\n",
    "text_model = markovify.Text(text)\n",
    "\n",
    "# Print three randomly-generated sentences of no more than 280 characters\n",
    "for i in range(5):\n",
    "    print(text_model.make_short_sentence(100))"
   ]
  },
  {
   "cell_type": "code",
   "execution_count": 6,
   "metadata": {},
   "outputs": [
    {
     "name": "stdout",
     "output_type": "stream",
     "text": [
      "We're going to the Emperor.\n",
      "By now you must bring him before me.\n",
      "Impatience is the only way you can get.\n",
      "He can feel your anger.\n",
      "I'll never turn to the Rebel cause.\n",
      "I can save your friends.\n",
      "By now you must bring him before me.\n",
      "And when he does, you must know your father can never be turned from the Emperor, you were born.\n",
      "Oh, this is no escape, my young apprentice.\n",
      "That's why I have need for you on the other side of the Force.\n"
     ]
    }
   ],
   "source": [
    "# Get raw text as string.\n",
    "with open(\"../raw_data/SW_EpisodeVI.txt\") as f:\n",
    "    text = f.read()\n",
    "\n",
    "# Build the model.\n",
    "text_model = markovify.Text(text)\n",
    "\n",
    "# Print three randomly-generated sentences of no more than 280 characters\n",
    "for i in range(10):\n",
    "    print(text_model.make_short_sentence(100))"
   ]
  }
 ],
 "metadata": {
  "kernelspec": {
   "display_name": "Python 3",
   "language": "python",
   "name": "python3"
  },
  "language_info": {
   "codemirror_mode": {
    "name": "ipython",
    "version": 3
   },
   "file_extension": ".py",
   "mimetype": "text/x-python",
   "name": "python",
   "nbconvert_exporter": "python",
   "pygments_lexer": "ipython3",
   "version": "3.7.4"
  },
  "toc": {
   "base_numbering": 1,
   "nav_menu": {},
   "number_sections": true,
   "sideBar": true,
   "skip_h1_title": false,
   "title_cell": "Table of Contents",
   "title_sidebar": "Contents",
   "toc_cell": false,
   "toc_position": {},
   "toc_section_display": true,
   "toc_window_display": false
  },
  "varInspector": {
   "cols": {
    "lenName": 16,
    "lenType": 16,
    "lenVar": 40
   },
   "kernels_config": {
    "python": {
     "delete_cmd_postfix": "",
     "delete_cmd_prefix": "del ",
     "library": "var_list.py",
     "varRefreshCmd": "print(var_dic_list())"
    },
    "r": {
     "delete_cmd_postfix": ") ",
     "delete_cmd_prefix": "rm(",
     "library": "var_list.r",
     "varRefreshCmd": "cat(var_dic_list()) "
    }
   },
   "types_to_exclude": [
    "module",
    "function",
    "builtin_function_or_method",
    "instance",
    "_Feature"
   ],
   "window_display": false
  }
 },
 "nbformat": 4,
 "nbformat_minor": 2
}
